{
 "cells": [
  {
   "cell_type": "markdown",
   "id": "1205963b",
   "metadata": {},
   "source": [
    "# Submission of Detecting Disaster Tweets "
   ]
  },
  {
   "cell_type": "markdown",
   "id": "d776b721",
   "metadata": {},
   "source": [
    "This file contains ML Models for predicting labels of test dataset."
   ]
  },
  {
   "cell_type": "code",
   "execution_count": 1,
   "id": "dbc81f46",
   "metadata": {},
   "outputs": [],
   "source": [
    "#Importing libraries\n",
    "import numpy as np\n",
    "import pandas as pd\n",
    "import matplotlib.pyplot as plt\n",
    "from sklearn.model_selection import train_test_split,GridSearchCV\n",
    "from sklearn.naive_bayes import GaussianNB,MultinomialNB,BernoulliNB\n",
    "from sklearn.tree import DecisionTreeClassifier\n",
    "from sklearn.linear_model import LogisticRegression\n",
    "from sklearn.feature_extraction.text import CountVectorizer\n",
    "from sklearn.neighbors import KNeighborsClassifier\n",
    "from sklearn.svm import SVC, NuSVC, LinearSVC\n",
    "from sklearn.metrics import accuracy_score\n",
    "import warnings\n",
    "warnings.filterwarnings(\"ignore\")"
   ]
  },
  {
   "cell_type": "code",
   "execution_count": 2,
   "id": "6d2b15f2",
   "metadata": {
    "scrolled": false
   },
   "outputs": [
    {
     "data": {
      "text/html": [
       "<div>\n",
       "<style scoped>\n",
       "    .dataframe tbody tr th:only-of-type {\n",
       "        vertical-align: middle;\n",
       "    }\n",
       "\n",
       "    .dataframe tbody tr th {\n",
       "        vertical-align: top;\n",
       "    }\n",
       "\n",
       "    .dataframe thead th {\n",
       "        text-align: right;\n",
       "    }\n",
       "</style>\n",
       "<table border=\"1\" class=\"dataframe\">\n",
       "  <thead>\n",
       "    <tr style=\"text-align: right;\">\n",
       "      <th></th>\n",
       "      <th>id</th>\n",
       "      <th>keyword</th>\n",
       "      <th>location</th>\n",
       "      <th>text</th>\n",
       "      <th>target</th>\n",
       "    </tr>\n",
       "  </thead>\n",
       "  <tbody>\n",
       "    <tr>\n",
       "      <th>0</th>\n",
       "      <td>1</td>\n",
       "      <td>NaN</td>\n",
       "      <td>NaN</td>\n",
       "      <td>Our Deeds are the Reason of this #earthquake M...</td>\n",
       "      <td>1</td>\n",
       "    </tr>\n",
       "    <tr>\n",
       "      <th>1</th>\n",
       "      <td>4</td>\n",
       "      <td>NaN</td>\n",
       "      <td>NaN</td>\n",
       "      <td>Forest fire near La Ronge Sask. Canada</td>\n",
       "      <td>1</td>\n",
       "    </tr>\n",
       "    <tr>\n",
       "      <th>2</th>\n",
       "      <td>5</td>\n",
       "      <td>NaN</td>\n",
       "      <td>NaN</td>\n",
       "      <td>All residents asked to 'shelter in place' are ...</td>\n",
       "      <td>1</td>\n",
       "    </tr>\n",
       "    <tr>\n",
       "      <th>3</th>\n",
       "      <td>6</td>\n",
       "      <td>NaN</td>\n",
       "      <td>NaN</td>\n",
       "      <td>13,000 people receive #wildfires evacuation or...</td>\n",
       "      <td>1</td>\n",
       "    </tr>\n",
       "    <tr>\n",
       "      <th>4</th>\n",
       "      <td>7</td>\n",
       "      <td>NaN</td>\n",
       "      <td>NaN</td>\n",
       "      <td>Just got sent this photo from Ruby #Alaska as ...</td>\n",
       "      <td>1</td>\n",
       "    </tr>\n",
       "    <tr>\n",
       "      <th>...</th>\n",
       "      <td>...</td>\n",
       "      <td>...</td>\n",
       "      <td>...</td>\n",
       "      <td>...</td>\n",
       "      <td>...</td>\n",
       "    </tr>\n",
       "    <tr>\n",
       "      <th>7608</th>\n",
       "      <td>10869</td>\n",
       "      <td>NaN</td>\n",
       "      <td>NaN</td>\n",
       "      <td>Two giant cranes holding a bridge collapse int...</td>\n",
       "      <td>1</td>\n",
       "    </tr>\n",
       "    <tr>\n",
       "      <th>7609</th>\n",
       "      <td>10870</td>\n",
       "      <td>NaN</td>\n",
       "      <td>NaN</td>\n",
       "      <td>@aria_ahrary @TheTawniest The out of control w...</td>\n",
       "      <td>1</td>\n",
       "    </tr>\n",
       "    <tr>\n",
       "      <th>7610</th>\n",
       "      <td>10871</td>\n",
       "      <td>NaN</td>\n",
       "      <td>NaN</td>\n",
       "      <td>M1.94 [01:04 UTC]?5km S of Volcano Hawaii. htt...</td>\n",
       "      <td>1</td>\n",
       "    </tr>\n",
       "    <tr>\n",
       "      <th>7611</th>\n",
       "      <td>10872</td>\n",
       "      <td>NaN</td>\n",
       "      <td>NaN</td>\n",
       "      <td>Police investigating after an e-bike collided ...</td>\n",
       "      <td>1</td>\n",
       "    </tr>\n",
       "    <tr>\n",
       "      <th>7612</th>\n",
       "      <td>10873</td>\n",
       "      <td>NaN</td>\n",
       "      <td>NaN</td>\n",
       "      <td>The Latest: More Homes Razed by Northern Calif...</td>\n",
       "      <td>1</td>\n",
       "    </tr>\n",
       "  </tbody>\n",
       "</table>\n",
       "<p>7613 rows × 5 columns</p>\n",
       "</div>"
      ],
      "text/plain": [
       "         id keyword location  \\\n",
       "0         1     NaN      NaN   \n",
       "1         4     NaN      NaN   \n",
       "2         5     NaN      NaN   \n",
       "3         6     NaN      NaN   \n",
       "4         7     NaN      NaN   \n",
       "...     ...     ...      ...   \n",
       "7608  10869     NaN      NaN   \n",
       "7609  10870     NaN      NaN   \n",
       "7610  10871     NaN      NaN   \n",
       "7611  10872     NaN      NaN   \n",
       "7612  10873     NaN      NaN   \n",
       "\n",
       "                                                   text  target  \n",
       "0     Our Deeds are the Reason of this #earthquake M...       1  \n",
       "1                Forest fire near La Ronge Sask. Canada       1  \n",
       "2     All residents asked to 'shelter in place' are ...       1  \n",
       "3     13,000 people receive #wildfires evacuation or...       1  \n",
       "4     Just got sent this photo from Ruby #Alaska as ...       1  \n",
       "...                                                 ...     ...  \n",
       "7608  Two giant cranes holding a bridge collapse int...       1  \n",
       "7609  @aria_ahrary @TheTawniest The out of control w...       1  \n",
       "7610  M1.94 [01:04 UTC]?5km S of Volcano Hawaii. htt...       1  \n",
       "7611  Police investigating after an e-bike collided ...       1  \n",
       "7612  The Latest: More Homes Razed by Northern Calif...       1  \n",
       "\n",
       "[7613 rows x 5 columns]"
      ]
     },
     "execution_count": 2,
     "metadata": {},
     "output_type": "execute_result"
    }
   ],
   "source": [
    "#Reading data\n",
    "data_train=pd.read_csv('train.csv')\n",
    "data_train"
   ]
  },
  {
   "cell_type": "code",
   "execution_count": 3,
   "id": "a1a41927",
   "metadata": {},
   "outputs": [
    {
     "data": {
      "text/html": [
       "<div>\n",
       "<style scoped>\n",
       "    .dataframe tbody tr th:only-of-type {\n",
       "        vertical-align: middle;\n",
       "    }\n",
       "\n",
       "    .dataframe tbody tr th {\n",
       "        vertical-align: top;\n",
       "    }\n",
       "\n",
       "    .dataframe thead th {\n",
       "        text-align: right;\n",
       "    }\n",
       "</style>\n",
       "<table border=\"1\" class=\"dataframe\">\n",
       "  <thead>\n",
       "    <tr style=\"text-align: right;\">\n",
       "      <th></th>\n",
       "      <th>id</th>\n",
       "      <th>keyword</th>\n",
       "      <th>location</th>\n",
       "      <th>text</th>\n",
       "      <th>target</th>\n",
       "      <th>length</th>\n",
       "      <th>wordqty</th>\n",
       "      <th>avg char per words</th>\n",
       "    </tr>\n",
       "  </thead>\n",
       "  <tbody>\n",
       "    <tr>\n",
       "      <th>0</th>\n",
       "      <td>1</td>\n",
       "      <td>NaN</td>\n",
       "      <td>NaN</td>\n",
       "      <td>Our Deeds are the Reason of this #earthquake M...</td>\n",
       "      <td>1</td>\n",
       "      <td>69</td>\n",
       "      <td>13</td>\n",
       "      <td>5.307692</td>\n",
       "    </tr>\n",
       "    <tr>\n",
       "      <th>1</th>\n",
       "      <td>4</td>\n",
       "      <td>NaN</td>\n",
       "      <td>NaN</td>\n",
       "      <td>Forest fire near La Ronge Sask. Canada</td>\n",
       "      <td>1</td>\n",
       "      <td>38</td>\n",
       "      <td>7</td>\n",
       "      <td>5.428571</td>\n",
       "    </tr>\n",
       "    <tr>\n",
       "      <th>2</th>\n",
       "      <td>5</td>\n",
       "      <td>NaN</td>\n",
       "      <td>NaN</td>\n",
       "      <td>All residents asked to 'shelter in place' are ...</td>\n",
       "      <td>1</td>\n",
       "      <td>133</td>\n",
       "      <td>22</td>\n",
       "      <td>6.045455</td>\n",
       "    </tr>\n",
       "    <tr>\n",
       "      <th>3</th>\n",
       "      <td>6</td>\n",
       "      <td>NaN</td>\n",
       "      <td>NaN</td>\n",
       "      <td>13,000 people receive #wildfires evacuation or...</td>\n",
       "      <td>1</td>\n",
       "      <td>65</td>\n",
       "      <td>8</td>\n",
       "      <td>8.125000</td>\n",
       "    </tr>\n",
       "    <tr>\n",
       "      <th>4</th>\n",
       "      <td>7</td>\n",
       "      <td>NaN</td>\n",
       "      <td>NaN</td>\n",
       "      <td>Just got sent this photo from Ruby #Alaska as ...</td>\n",
       "      <td>1</td>\n",
       "      <td>88</td>\n",
       "      <td>16</td>\n",
       "      <td>5.500000</td>\n",
       "    </tr>\n",
       "    <tr>\n",
       "      <th>...</th>\n",
       "      <td>...</td>\n",
       "      <td>...</td>\n",
       "      <td>...</td>\n",
       "      <td>...</td>\n",
       "      <td>...</td>\n",
       "      <td>...</td>\n",
       "      <td>...</td>\n",
       "      <td>...</td>\n",
       "    </tr>\n",
       "    <tr>\n",
       "      <th>7608</th>\n",
       "      <td>10869</td>\n",
       "      <td>NaN</td>\n",
       "      <td>NaN</td>\n",
       "      <td>Two giant cranes holding a bridge collapse int...</td>\n",
       "      <td>1</td>\n",
       "      <td>83</td>\n",
       "      <td>11</td>\n",
       "      <td>7.545455</td>\n",
       "    </tr>\n",
       "    <tr>\n",
       "      <th>7609</th>\n",
       "      <td>10870</td>\n",
       "      <td>NaN</td>\n",
       "      <td>NaN</td>\n",
       "      <td>@aria_ahrary @TheTawniest The out of control w...</td>\n",
       "      <td>1</td>\n",
       "      <td>125</td>\n",
       "      <td>20</td>\n",
       "      <td>6.250000</td>\n",
       "    </tr>\n",
       "    <tr>\n",
       "      <th>7610</th>\n",
       "      <td>10871</td>\n",
       "      <td>NaN</td>\n",
       "      <td>NaN</td>\n",
       "      <td>M1.94 [01:04 UTC]?5km S of Volcano Hawaii. htt...</td>\n",
       "      <td>1</td>\n",
       "      <td>65</td>\n",
       "      <td>8</td>\n",
       "      <td>8.125000</td>\n",
       "    </tr>\n",
       "    <tr>\n",
       "      <th>7611</th>\n",
       "      <td>10872</td>\n",
       "      <td>NaN</td>\n",
       "      <td>NaN</td>\n",
       "      <td>Police investigating after an e-bike collided ...</td>\n",
       "      <td>1</td>\n",
       "      <td>137</td>\n",
       "      <td>19</td>\n",
       "      <td>7.210526</td>\n",
       "    </tr>\n",
       "    <tr>\n",
       "      <th>7612</th>\n",
       "      <td>10873</td>\n",
       "      <td>NaN</td>\n",
       "      <td>NaN</td>\n",
       "      <td>The Latest: More Homes Razed by Northern Calif...</td>\n",
       "      <td>1</td>\n",
       "      <td>94</td>\n",
       "      <td>13</td>\n",
       "      <td>7.230769</td>\n",
       "    </tr>\n",
       "  </tbody>\n",
       "</table>\n",
       "<p>7613 rows × 8 columns</p>\n",
       "</div>"
      ],
      "text/plain": [
       "         id keyword location  \\\n",
       "0         1     NaN      NaN   \n",
       "1         4     NaN      NaN   \n",
       "2         5     NaN      NaN   \n",
       "3         6     NaN      NaN   \n",
       "4         7     NaN      NaN   \n",
       "...     ...     ...      ...   \n",
       "7608  10869     NaN      NaN   \n",
       "7609  10870     NaN      NaN   \n",
       "7610  10871     NaN      NaN   \n",
       "7611  10872     NaN      NaN   \n",
       "7612  10873     NaN      NaN   \n",
       "\n",
       "                                                   text  target  length  \\\n",
       "0     Our Deeds are the Reason of this #earthquake M...       1      69   \n",
       "1                Forest fire near La Ronge Sask. Canada       1      38   \n",
       "2     All residents asked to 'shelter in place' are ...       1     133   \n",
       "3     13,000 people receive #wildfires evacuation or...       1      65   \n",
       "4     Just got sent this photo from Ruby #Alaska as ...       1      88   \n",
       "...                                                 ...     ...     ...   \n",
       "7608  Two giant cranes holding a bridge collapse int...       1      83   \n",
       "7609  @aria_ahrary @TheTawniest The out of control w...       1     125   \n",
       "7610  M1.94 [01:04 UTC]?5km S of Volcano Hawaii. htt...       1      65   \n",
       "7611  Police investigating after an e-bike collided ...       1     137   \n",
       "7612  The Latest: More Homes Razed by Northern Calif...       1      94   \n",
       "\n",
       "      wordqty  avg char per words  \n",
       "0          13            5.307692  \n",
       "1           7            5.428571  \n",
       "2          22            6.045455  \n",
       "3           8            8.125000  \n",
       "4          16            5.500000  \n",
       "...       ...                 ...  \n",
       "7608       11            7.545455  \n",
       "7609       20            6.250000  \n",
       "7610        8            8.125000  \n",
       "7611       19            7.210526  \n",
       "7612       13            7.230769  \n",
       "\n",
       "[7613 rows x 8 columns]"
      ]
     },
     "execution_count": 3,
     "metadata": {},
     "output_type": "execute_result"
    }
   ],
   "source": [
    "#Adding length of all characters of tweet to dataset\n",
    "data_train['length']  = data_train['text'].str.len()\n",
    "#Adding words quantity to dataset\n",
    "data_train['wordqty'] = data_train['text'].str.split().str.len()\n",
    "#Adding average character per word to dataset\n",
    "data_train['avg char per words']=data_train['length']/data_train['wordqty']\n",
    "data_train"
   ]
  },
  {
   "cell_type": "code",
   "execution_count": 4,
   "id": "7dc64a15",
   "metadata": {},
   "outputs": [
    {
     "data": {
      "text/html": [
       "<style  type=\"text/css\" >\n",
       "#T_318ad_row0_col0,#T_318ad_row1_col1,#T_318ad_row2_col2,#T_318ad_row3_col3,#T_318ad_row4_col4{\n",
       "            background-color:  #7f3b08;\n",
       "            color:  #f1f1f1;\n",
       "        }#T_318ad_row0_col1{\n",
       "            background-color:  #350857;\n",
       "            color:  #f1f1f1;\n",
       "        }#T_318ad_row0_col2,#T_318ad_row3_col0,#T_318ad_row3_col1,#T_318ad_row3_col4,#T_318ad_row4_col3{\n",
       "            background-color:  #2d004b;\n",
       "            color:  #f1f1f1;\n",
       "        }#T_318ad_row0_col3{\n",
       "            background-color:  #b4aed3;\n",
       "            color:  #000000;\n",
       "        }#T_318ad_row0_col4{\n",
       "            background-color:  #b6b0d4;\n",
       "            color:  #000000;\n",
       "        }#T_318ad_row1_col0{\n",
       "            background-color:  #42156c;\n",
       "            color:  #f1f1f1;\n",
       "        }#T_318ad_row1_col2{\n",
       "            background-color:  #70589f;\n",
       "            color:  #f1f1f1;\n",
       "        }#T_318ad_row1_col3{\n",
       "            background-color:  #bdb9d9;\n",
       "            color:  #000000;\n",
       "        }#T_318ad_row1_col4{\n",
       "            background-color:  #e1e2ee;\n",
       "            color:  #000000;\n",
       "        }#T_318ad_row2_col0,#T_318ad_row4_col0{\n",
       "            background-color:  #300350;\n",
       "            color:  #f1f1f1;\n",
       "        }#T_318ad_row2_col1{\n",
       "            background-color:  #684998;\n",
       "            color:  #f1f1f1;\n",
       "        }#T_318ad_row2_col3{\n",
       "            background-color:  #b95e08;\n",
       "            color:  #000000;\n",
       "        }#T_318ad_row2_col4{\n",
       "            background-color:  #c3c0dd;\n",
       "            color:  #000000;\n",
       "        }#T_318ad_row3_col2{\n",
       "            background-color:  #d0730f;\n",
       "            color:  #000000;\n",
       "        }#T_318ad_row4_col1{\n",
       "            background-color:  #6a4c9a;\n",
       "            color:  #f1f1f1;\n",
       "        }#T_318ad_row4_col2{\n",
       "            background-color:  #3f1268;\n",
       "            color:  #f1f1f1;\n",
       "        }</style><table id=\"T_318ad_\" ><thead>    <tr>        <th class=\"blank level0\" ></th>        <th class=\"col_heading level0 col0\" >id</th>        <th class=\"col_heading level0 col1\" >target</th>        <th class=\"col_heading level0 col2\" >length</th>        <th class=\"col_heading level0 col3\" >wordqty</th>        <th class=\"col_heading level0 col4\" >avg char per words</th>    </tr></thead><tbody>\n",
       "                <tr>\n",
       "                        <th id=\"T_318ad_level0_row0\" class=\"row_heading level0 row0\" >id</th>\n",
       "                        <td id=\"T_318ad_row0_col0\" class=\"data row0 col0\" >1.000000</td>\n",
       "                        <td id=\"T_318ad_row0_col1\" class=\"data row0 col1\" >0.060781</td>\n",
       "                        <td id=\"T_318ad_row0_col2\" class=\"data row0 col2\" >0.017393</td>\n",
       "                        <td id=\"T_318ad_row0_col3\" class=\"data row0 col3\" >0.006420</td>\n",
       "                        <td id=\"T_318ad_row0_col4\" class=\"data row0 col4\" >0.015716</td>\n",
       "            </tr>\n",
       "            <tr>\n",
       "                        <th id=\"T_318ad_level0_row1\" class=\"row_heading level0 row1\" >target</th>\n",
       "                        <td id=\"T_318ad_row1_col0\" class=\"data row1 col0\" >0.060781</td>\n",
       "                        <td id=\"T_318ad_row1_col1\" class=\"data row1 col1\" >1.000000</td>\n",
       "                        <td id=\"T_318ad_row1_col2\" class=\"data row1 col2\" >0.181817</td>\n",
       "                        <td id=\"T_318ad_row1_col3\" class=\"data row1 col3\" >0.039966</td>\n",
       "                        <td id=\"T_318ad_row1_col4\" class=\"data row1 col4\" >0.182517</td>\n",
       "            </tr>\n",
       "            <tr>\n",
       "                        <th id=\"T_318ad_level0_row2\" class=\"row_heading level0 row2\" >length</th>\n",
       "                        <td id=\"T_318ad_row2_col0\" class=\"data row2 col0\" >0.017393</td>\n",
       "                        <td id=\"T_318ad_row2_col1\" class=\"data row2 col1\" >0.181817</td>\n",
       "                        <td id=\"T_318ad_row2_col2\" class=\"data row2 col2\" >1.000000</td>\n",
       "                        <td id=\"T_318ad_row2_col3\" class=\"data row2 col3\" >0.837386</td>\n",
       "                        <td id=\"T_318ad_row2_col4\" class=\"data row2 col4\" >0.065285</td>\n",
       "            </tr>\n",
       "            <tr>\n",
       "                        <th id=\"T_318ad_level0_row3\" class=\"row_heading level0 row3\" >wordqty</th>\n",
       "                        <td id=\"T_318ad_row3_col0\" class=\"data row3 col0\" >0.006420</td>\n",
       "                        <td id=\"T_318ad_row3_col1\" class=\"data row3 col1\" >0.039966</td>\n",
       "                        <td id=\"T_318ad_row3_col2\" class=\"data row3 col2\" >0.837386</td>\n",
       "                        <td id=\"T_318ad_row3_col3\" class=\"data row3 col3\" >1.000000</td>\n",
       "                        <td id=\"T_318ad_row3_col4\" class=\"data row3 col4\" >-0.430094</td>\n",
       "            </tr>\n",
       "            <tr>\n",
       "                        <th id=\"T_318ad_level0_row4\" class=\"row_heading level0 row4\" >avg char per words</th>\n",
       "                        <td id=\"T_318ad_row4_col0\" class=\"data row4 col0\" >0.015716</td>\n",
       "                        <td id=\"T_318ad_row4_col1\" class=\"data row4 col1\" >0.182517</td>\n",
       "                        <td id=\"T_318ad_row4_col2\" class=\"data row4 col2\" >0.065285</td>\n",
       "                        <td id=\"T_318ad_row4_col3\" class=\"data row4 col3\" >-0.430094</td>\n",
       "                        <td id=\"T_318ad_row4_col4\" class=\"data row4 col4\" >1.000000</td>\n",
       "            </tr>\n",
       "    </tbody></table>"
      ],
      "text/plain": [
       "<pandas.io.formats.style.Styler at 0x117dbdaba30>"
      ]
     },
     "execution_count": 4,
     "metadata": {},
     "output_type": "execute_result"
    }
   ],
   "source": [
    "#Correlation among columns and find most useful columns with target value\n",
    "corr = data_train.corr()\n",
    "corr.style.background_gradient(cmap='PuOr_r')\n",
    "#None of them is useful as shown in the visuals from EDA file"
   ]
  },
  {
   "cell_type": "code",
   "execution_count": 5,
   "id": "6ca646b1",
   "metadata": {},
   "outputs": [
    {
     "name": "stdout",
     "output_type": "stream",
     "text": [
      "Length of x: 7613 \n",
      "Length of y: 7613\n",
      "Length of x Null values: 0 \n",
      "Length of y Null values: 0\n",
      "Length of train dataset 6090 \n",
      "Length of test dataset: 1523\n"
     ]
    }
   ],
   "source": [
    "#So We should focus only text columns\n",
    "#Seperate x and y\n",
    "x=data_train['text']\n",
    "y=data_train['target']\n",
    "print('Length of x:',len(x),'\\nLength of y:',len(y))\n",
    "print('Length of x Null values:',np.sum(pd.isnull(x)),'\\nLength of y Null values:',np.sum(pd.isnull(y)))\n",
    "#So We have not any Nan values\n",
    "x_train, x_test, y_train, y_test = train_test_split(x,y,test_size=0.2,random_state=42)\n",
    "#Check number of Train and test data also\n",
    "print('Length of train dataset',len(x_train),'\\nLength of test dataset:',len(x_test))"
   ]
  },
  {
   "cell_type": "code",
   "execution_count": 6,
   "id": "e7b7d1dd",
   "metadata": {},
   "outputs": [],
   "source": [
    "#Convering data from text to matrix of tokens using CountVectorizer\n",
    "cv=CountVectorizer()\n",
    "X_train=cv.fit_transform(x_train)\n",
    "X_test = cv.transform(x_test)"
   ]
  },
  {
   "cell_type": "markdown",
   "id": "95817460",
   "metadata": {},
   "source": [
    "## KNN"
   ]
  },
  {
   "cell_type": "code",
   "execution_count": 7,
   "id": "761a022f",
   "metadata": {},
   "outputs": [
    {
     "name": "stdout",
     "output_type": "stream",
     "text": [
      "Best parameters of KNN Model is {'n_neighbors': 4, 'weights': 'distance'}\n",
      "Accuracy of KNN Model is 0.711096520026264\n"
     ]
    }
   ],
   "source": [
    "#Our first model is KNN. In order to find the best params and accuracy We use GridSearch \n",
    "k_range = list(range(1,10))\n",
    "weight_options = [\"uniform\", \"distance\"]\n",
    "\n",
    "param_knn = dict(n_neighbors = k_range, weights = weight_options)\n",
    "#print (param_grid)\n",
    "knn_model = KNeighborsClassifier()\n",
    "\n",
    "knn_grid = GridSearchCV(knn_model, param_knn, cv = 5, scoring = 'accuracy')\n",
    "knn_grid.fit(X_train,y_train)\n",
    "preds_knn=knn_grid.best_estimator_.predict(X_test)\n",
    "preds_knn=preds_knn.reshape(-1, 1)\n",
    "knn_acc=accuracy_score(preds_knn,y_test)\n",
    "print('Best parameters of KNN Model is',knn_grid.best_params_)\n",
    "print('Accuracy of KNN Model is',knn_acc)"
   ]
  },
  {
   "cell_type": "markdown",
   "id": "74d06d47",
   "metadata": {},
   "source": [
    "## Decision Tree"
   ]
  },
  {
   "cell_type": "code",
   "execution_count": 8,
   "id": "d2b78670",
   "metadata": {},
   "outputs": [
    {
     "name": "stdout",
     "output_type": "stream",
     "text": [
      "Best parameters of Decision Tree model is {'ccp_alpha': 0.001, 'criterion': 'gini', 'max_depth': 9, 'max_features': 'auto'}\n",
      "Accuracy of Decision Tree Model is 0.5994747209455022\n"
     ]
    }
   ],
   "source": [
    "#Accuracy of KNN Model is 0.711096520026264. Not that good, so we try others also\n",
    "#Second model is Decision Tree\n",
    "param_tree = {'max_features': ['auto', 'sqrt', 'log2'],\n",
    "              'ccp_alpha': [0.1, .01, .001],\n",
    "              'max_depth' : [5, 6, 7, 8, 9],\n",
    "              'criterion' :['gini', 'entropy']\n",
    "             }\n",
    "tree_model = DecisionTreeClassifier(random_state=42)\n",
    "tree_grid = GridSearchCV(tree_model,param_tree, cv=5,scoring='accuracy')\n",
    "tree_grid.fit(X_train, y_train)\n",
    "preds_tree=tree_grid.best_estimator_.predict(X_test)\n",
    "preds_tree=preds_tree.reshape(-1, 1)\n",
    "tree_acc=accuracy_score(preds_tree,y_test)\n",
    "print('Best parameters of Decision Tree model is',tree_grid.best_params_)\n",
    "print('Accuracy of Decision Tree Model is',tree_acc)"
   ]
  },
  {
   "cell_type": "markdown",
   "id": "c0f07951",
   "metadata": {},
   "source": [
    "## SVM (SVC)"
   ]
  },
  {
   "cell_type": "code",
   "execution_count": 9,
   "id": "b83c2be9",
   "metadata": {},
   "outputs": [
    {
     "name": "stdout",
     "output_type": "stream",
     "text": [
      "Best parameters of SVM (SVC) model is {'C': 10, 'gamma': 0.01}\n",
      "Accuracy of SVM (SVC) Model is 0.814182534471438\n"
     ]
    }
   ],
   "source": [
    "#Accuracy of Decision Tree is also bad, So, we try SVM SVC Model\n",
    "svm_svc_model = SVC(random_state=42)\n",
    "param_svm_svc = {'C': [0.1,1,10],\n",
    "              'gamma': [0.1, 0.01, 0.001]} \n",
    "svm_svc_grid = GridSearchCV(svm_svc_model, param_svm_svc, refit = True,scoring='accuracy')\n",
    "svm_svc_grid.fit(X_train, y_train)\n",
    "preds_svm_svc=svm_svc_grid.best_estimator_.predict(X_test)\n",
    "preds_svm_svc=preds_svm_svc.reshape(-1, 1)\n",
    "svmsvc_acc=accuracy_score(preds_svm_svc,y_test)\n",
    "print('Best parameters of SVM (SVC) model is',svm_svc_grid.best_params_)\n",
    "print('Accuracy of SVM (SVC) Model is',svmsvc_acc)"
   ]
  },
  {
   "cell_type": "markdown",
   "id": "99489b62",
   "metadata": {},
   "source": [
    "## SVM (NuSVC)"
   ]
  },
  {
   "cell_type": "code",
   "execution_count": 10,
   "id": "cffb0a0a",
   "metadata": {},
   "outputs": [
    {
     "name": "stdout",
     "output_type": "stream",
     "text": [
      "Best parameters of SVM (NuSVC) model is {'kernel': 'linear', 'nu': 0.5}\n",
      "Accuracy of SVM (NuSVC) Model is 0.8233749179251477\n"
     ]
    }
   ],
   "source": [
    "#Accuraccy is getting better. Let's check other SVM Models\n",
    "svm_nusvc_model = NuSVC(random_state=42)\n",
    "nu_range=list(np.arange(0.1,1,0.1))\n",
    "nu_kernel=['linear', 'poly', 'rbf', 'sigmoid']\n",
    "param_svm_nusvc = dict(nu = nu_range, kernel = nu_kernel)\n",
    "svm_nusvc_grid = GridSearchCV(svm_nusvc_model, param_svm_nusvc, refit = True,scoring='accuracy')\n",
    "svm_nusvc_grid.fit(X_train, y_train)\n",
    "preds_nusvc=svm_nusvc_grid.best_estimator_.predict(X_test)\n",
    "preds_nusvc=preds_nusvc.reshape(-1, 1)\n",
    "nusvc_acc=accuracy_score(preds_nusvc,y_test)\n",
    "print('Best parameters of SVM (NuSVC) model is',svm_nusvc_grid.best_params_)\n",
    "print('Accuracy of SVM (NuSVC) Model is',nusvc_acc)"
   ]
  },
  {
   "cell_type": "markdown",
   "id": "38db27da",
   "metadata": {},
   "source": [
    "## SVM (LinearSVC)"
   ]
  },
  {
   "cell_type": "code",
   "execution_count": 11,
   "id": "ef5fc37a",
   "metadata": {},
   "outputs": [
    {
     "name": "stdout",
     "output_type": "stream",
     "text": [
      "Best parameters of SVM (LinearSVC) model is {'C': 0.01}\n",
      "Accuracy of SVM (LinearSVC) Model is 0.8122127380170716\n"
     ]
    }
   ],
   "source": [
    "svm_lin_model = LinearSVC(random_state=42)\n",
    "param_svm_lin = {'C':np.arange(0.01,100,10)}\n",
    "svm_lin_grid = GridSearchCV(svm_lin_model,param_svm_lin,cv=5,scoring='accuracy')\n",
    "svm_lin_grid.fit(X_train,y_train)\n",
    "preds_svm_lin=svm_lin_grid.predict(X_test)\n",
    "preds_svm_lin=preds_svm_lin.reshape(-1,1)\n",
    "svm_lin_acc=accuracy_score(preds_svm_lin,y_test)\n",
    "print('Best parameters of SVM (LinearSVC) model is',svm_lin_grid.best_params_)\n",
    "print('Accuracy of SVM (LinearSVC) Model is',svm_lin_acc)"
   ]
  },
  {
   "cell_type": "markdown",
   "id": "2546d58a",
   "metadata": {},
   "source": [
    "## Logistic Regression"
   ]
  },
  {
   "cell_type": "code",
   "execution_count": 12,
   "id": "c1155675",
   "metadata": {},
   "outputs": [
    {
     "name": "stdout",
     "output_type": "stream",
     "text": [
      "Best parameters of Logistic Regression model is {'C': 0.1, 'penalty': 'l2'}\n",
      "Accuracy of Logistic Regression Model is 0.8069599474720945\n"
     ]
    }
   ],
   "source": [
    "logreg=LogisticRegression(random_state=42)\n",
    "param_logreg={\"C\":np.logspace(-3,3,7), \"penalty\":[\"l1\",\"l2\"]}# l1 lasso l2 ridge\n",
    "logreg_grid=GridSearchCV(logreg,param_logreg,cv=5,scoring='accuracy')\n",
    "logreg_grid.fit(X_train,y_train)\n",
    "preds_logreg=logreg_grid.best_estimator_.predict(X_test)\n",
    "logreg_acc=accuracy_score(preds_logreg,y_test)\n",
    "print('Best parameters of Logistic Regression model is',logreg_grid.best_params_)\n",
    "print('Accuracy of Logistic Regression Model is',logreg_acc)"
   ]
  },
  {
   "cell_type": "markdown",
   "id": "0a5d0219",
   "metadata": {},
   "source": [
    "## GaussianNB"
   ]
  },
  {
   "cell_type": "code",
   "execution_count": 13,
   "id": "5452c0dd",
   "metadata": {},
   "outputs": [
    {
     "name": "stdout",
     "output_type": "stream",
     "text": [
      "Best parameters of Gaussian NB model is {'var_smoothing': 0.005623413251903491}\n",
      "Accuracy of Gaussian NB Model is 0.7997373604727511\n"
     ]
    }
   ],
   "source": [
    "gaussian = GaussianNB()\n",
    "param_gaussian = {'var_smoothing': np.logspace(0,-9, num=25)}\n",
    "gaussian_grid = GridSearchCV(gaussian, \n",
    "                 param_gaussian, \n",
    "                 cv=5,   \n",
    "                 scoring='accuracy') \n",
    "gaussian_grid.fit(X_train.todense(), y_train)\n",
    "preds_gaussian=gaussian_grid.best_estimator_.predict(X_test.todense())\n",
    "gaussian_acc=accuracy_score(preds_gaussian,y_test)\n",
    "print('Best parameters of Gaussian NB model is',gaussian_grid.best_params_)\n",
    "print('Accuracy of Gaussian NB Model is',gaussian_acc)"
   ]
  },
  {
   "cell_type": "markdown",
   "id": "a273f9d2",
   "metadata": {},
   "source": [
    "## MultinomialNB"
   ]
  },
  {
   "cell_type": "code",
   "execution_count": 14,
   "id": "54d4e7e1",
   "metadata": {},
   "outputs": [
    {
     "name": "stdout",
     "output_type": "stream",
     "text": [
      "Best parameters of Multinomial NB model is {'alpha': 1}\n",
      "Accuracy of Multinomial NB Model is 0.8010505581089954\n"
     ]
    }
   ],
   "source": [
    "multinomial=MultinomialNB()\n",
    "param_multinomial = {'alpha': (1, 0.1, 0.01, 0.001, 0.0001, 0.00001)}  \n",
    "multinomial_grid= GridSearchCV(multinomial, param_multinomial,cv=5,scoring='accuracy')\n",
    "multinomial_grid.fit(X_train.todense(),y_train)\n",
    "preds_multinomial=multinomial_grid.best_estimator_.predict(X_test.todense())\n",
    "multinomial_acc=accuracy_score(preds_multinomial,y_test)\n",
    "print('Best parameters of Multinomial NB model is',multinomial_grid.best_params_)\n",
    "print('Accuracy of Multinomial NB Model is',multinomial_acc)"
   ]
  },
  {
   "cell_type": "markdown",
   "id": "e3f61140",
   "metadata": {},
   "source": [
    "## BernoulliNB"
   ]
  },
  {
   "cell_type": "code",
   "execution_count": 15,
   "id": "9e365b74",
   "metadata": {},
   "outputs": [
    {
     "name": "stdout",
     "output_type": "stream",
     "text": [
      "Best parameters of Bernoulli NB model is {'alpha': 1.0}\n",
      "Accuracy of Bernoulli NB Model is 0.8063033486539725\n"
     ]
    }
   ],
   "source": [
    "bernoulli=BernoulliNB()\n",
    "param_bernoulli = {'alpha' : [0.0, 0.0001, 0.001, 0.01, 0.1, 0.5, 1.0, 2.0, 10.0]}\n",
    "bernoulli_grid = GridSearchCV(bernoulli, param_bernoulli,cv=5,scoring='accuracy')\n",
    "bernoulli_grid.fit(X_train.todense(), y_train)\n",
    "preds_bernoulli=bernoulli_grid.predict(X_test.todense())\n",
    "bernoulli_acc=accuracy_score(preds_bernoulli,y_test)\n",
    "print('Best parameters of Bernoulli NB model is',bernoulli_grid.best_params_)\n",
    "print('Accuracy of Bernoulli NB Model is',bernoulli_acc)"
   ]
  },
  {
   "cell_type": "code",
   "execution_count": 16,
   "id": "a4cdb738",
   "metadata": {},
   "outputs": [
    {
     "data": {
      "text/html": [
       "<div>\n",
       "<style scoped>\n",
       "    .dataframe tbody tr th:only-of-type {\n",
       "        vertical-align: middle;\n",
       "    }\n",
       "\n",
       "    .dataframe tbody tr th {\n",
       "        vertical-align: top;\n",
       "    }\n",
       "\n",
       "    .dataframe thead th {\n",
       "        text-align: right;\n",
       "    }\n",
       "</style>\n",
       "<table border=\"1\" class=\"dataframe\">\n",
       "  <thead>\n",
       "    <tr style=\"text-align: right;\">\n",
       "      <th></th>\n",
       "      <th>Model</th>\n",
       "      <th>Accuracy</th>\n",
       "    </tr>\n",
       "  </thead>\n",
       "  <tbody>\n",
       "    <tr>\n",
       "      <th>2</th>\n",
       "      <td>SVM (NuSVC)</td>\n",
       "      <td>0.823375</td>\n",
       "    </tr>\n",
       "    <tr>\n",
       "      <th>1</th>\n",
       "      <td>SVM (SVC)</td>\n",
       "      <td>0.814183</td>\n",
       "    </tr>\n",
       "    <tr>\n",
       "      <th>3</th>\n",
       "      <td>SVM (Linear SVC)</td>\n",
       "      <td>0.812213</td>\n",
       "    </tr>\n",
       "    <tr>\n",
       "      <th>8</th>\n",
       "      <td>Logistic Regression</td>\n",
       "      <td>0.806960</td>\n",
       "    </tr>\n",
       "    <tr>\n",
       "      <th>6</th>\n",
       "      <td>Bernoulli NB</td>\n",
       "      <td>0.806303</td>\n",
       "    </tr>\n",
       "    <tr>\n",
       "      <th>5</th>\n",
       "      <td>Muntinomial NB</td>\n",
       "      <td>0.801051</td>\n",
       "    </tr>\n",
       "    <tr>\n",
       "      <th>4</th>\n",
       "      <td>Gaussian NB</td>\n",
       "      <td>0.799737</td>\n",
       "    </tr>\n",
       "    <tr>\n",
       "      <th>0</th>\n",
       "      <td>KNN</td>\n",
       "      <td>0.711097</td>\n",
       "    </tr>\n",
       "    <tr>\n",
       "      <th>7</th>\n",
       "      <td>DecisionTree</td>\n",
       "      <td>0.599475</td>\n",
       "    </tr>\n",
       "  </tbody>\n",
       "</table>\n",
       "</div>"
      ],
      "text/plain": [
       "                 Model  Accuracy\n",
       "2          SVM (NuSVC)  0.823375\n",
       "1            SVM (SVC)  0.814183\n",
       "3     SVM (Linear SVC)  0.812213\n",
       "8  Logistic Regression  0.806960\n",
       "6         Bernoulli NB  0.806303\n",
       "5       Muntinomial NB  0.801051\n",
       "4          Gaussian NB  0.799737\n",
       "0                  KNN  0.711097\n",
       "7         DecisionTree  0.599475"
      ]
     },
     "execution_count": 16,
     "metadata": {},
     "output_type": "execute_result"
    },
    {
     "data": {
      "image/png": "[encoded data removed]",
      "text/plain": [
       "<Figure size 432x288 with 1 Axes>"
      ]
     },
     "metadata": {
      "needs_background": "light"
     },
     "output_type": "display_data"
    }
   ],
   "source": [
    "ac=[{'Model': 'KNN', 'Accuracy': knn_acc}, \n",
    "    {'Model': 'SVM (SVC)', 'Accuracy': svmsvc_acc},\n",
    "    {'Model': 'SVM (NuSVC)', 'Accuracy': nusvc_acc},\n",
    "    {'Model': 'SVM (Linear SVC)', 'Accuracy': svm_lin_acc},\n",
    "    {'Model': 'Gaussian NB', 'Accuracy': gaussian_acc},\n",
    "    {'Model': 'Muntinomial NB', 'Accuracy': multinomial_acc},\n",
    "    {'Model': 'Bernoulli NB', 'Accuracy': bernoulli_acc},\n",
    "    {'Model': 'DecisionTree', 'Accuracy': tree_acc},\n",
    "    {'Model': 'Logistic Regression', 'Accuracy': logreg_acc}]\n",
    "accuracies=pd.DataFrame(ac).sort_values('Accuracy',ascending=False)\n",
    "accuracies.set_index('Model').plot(kind='bar').set_ylim(bottom=0.5),\n",
    "accuracies"
   ]
  },
  {
   "cell_type": "markdown",
   "id": "c45488c6",
   "metadata": {},
   "source": [
    "So model which has the most accuracy in train dataset is SVM (NuSVC) (0.823375). Let's create submission csv for the task"
   ]
  },
  {
   "cell_type": "code",
   "execution_count": 17,
   "id": "f725d8b3",
   "metadata": {},
   "outputs": [],
   "source": [
    "datatest=pd.read_csv('test.csv')\n",
    "x_test_fin=datatest['text']\n",
    "pred = cv.transform(x_test_fin)\n",
    "result=svm_nusvc_grid.predict(pred)\n",
    "datatest['target']=result\n",
    "datatest[['id','target']].to_csv('submission.csv',index=False)"
   ]
  }
 ],
 "metadata": {
  "kernelspec": {
   "display_name": "Python 3",
   "language": "python",
   "name": "python3"
  },
  "language_info": {
   "codemirror_mode": {
    "name": "ipython",
    "version": 3
   },
   "file_extension": ".py",
   "mimetype": "text/x-python",
   "name": "python",
   "nbconvert_exporter": "python",
   "pygments_lexer": "ipython3",
   "version": "3.8.8"
  }
 },
 "nbformat": 4,
 "nbformat_minor": 5
}
